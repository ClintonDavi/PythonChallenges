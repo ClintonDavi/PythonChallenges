{
 "cells": [
  {
   "cell_type": "code",
   "execution_count": 1,
   "id": "ae63536d-26c0-43e6-a764-6e1df1b3f20d",
   "metadata": {},
   "outputs": [],
   "source": [
    "from collections import Counter"
   ]
  },
  {
   "cell_type": "markdown",
   "id": "ad480913-bf40-43ad-8b68-073705798e36",
   "metadata": {},
   "source": [
    "Problem desc: input is valid only if the string entered has opening and closing parenthesis"
   ]
  },
  {
   "cell_type": "code",
   "execution_count": 2,
   "id": "d59cbc50-fd4a-4ed4-bbac-b99e6cdd9a8a",
   "metadata": {},
   "outputs": [],
   "source": [
    "def isvalid(s):\n",
    "    true_false = []\n",
    "    dict2 = {')': '(', '(': ')', '}': '{', '{': '}', '[': ']', ']':'['}\n",
    "    item_counter = Counter(s)\n",
    "    for i in item_counter:\n",
    "        if i in list(dict2.values()) + list(dict2.keys()):\n",
    "            # print (item_counter)\n",
    "            # print (list(dict2.values()) + list(dict2.keys()))\n",
    "            \n",
    "            bracket_value = item_counter[i]\n",
    "            opp_bracket = dict2[i]\n",
    "            opp_bracket_value = item_counter [opp_bracket]\n",
    "            if bracket_value == opp_bracket_value:\n",
    "                true_false.append(1)\n",
    "            else:\n",
    "                true_false.append(0)\n",
    "        else:\n",
    "            return False   \n",
    "    if 0 in true_false:\n",
    "        return False\n",
    "    else:\n",
    "        return True"
   ]
  },
  {
   "cell_type": "code",
   "execution_count": 3,
   "id": "08cb9019-01fd-4295-a31f-8400f19242a6",
   "metadata": {},
   "outputs": [
    {
     "data": {
      "text/plain": [
       "True"
      ]
     },
     "execution_count": 3,
     "metadata": {},
     "output_type": "execute_result"
    }
   ],
   "source": [
    "isvalid('([][]{})')"
   ]
  },
  {
   "cell_type": "code",
   "execution_count": 4,
   "id": "3379fdc3-ffd1-4212-959a-c35569f2436b",
   "metadata": {},
   "outputs": [
    {
     "data": {
      "text/plain": [
       "False"
      ]
     },
     "execution_count": 4,
     "metadata": {},
     "output_type": "execute_result"
    }
   ],
   "source": [
    "isvalid('([][]{)')"
   ]
  },
  {
   "cell_type": "code",
   "execution_count": null,
   "id": "a3d13644-3583-4dcb-8f45-d14f8d99e724",
   "metadata": {},
   "outputs": [],
   "source": []
  }
 ],
 "metadata": {
  "kernelspec": {
   "display_name": "Python 3 (ipykernel)",
   "language": "python",
   "name": "python3"
  },
  "language_info": {
   "codemirror_mode": {
    "name": "ipython",
    "version": 3
   },
   "file_extension": ".py",
   "mimetype": "text/x-python",
   "name": "python",
   "nbconvert_exporter": "python",
   "pygments_lexer": "ipython3",
   "version": "3.11.7"
  }
 },
 "nbformat": 4,
 "nbformat_minor": 5
}
